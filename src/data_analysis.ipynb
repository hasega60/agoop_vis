{
 "cells": [
  {
   "cell_type": "code",
   "execution_count": 49,
   "metadata": {},
   "outputs": [],
   "source": [
    "import pandas as pd\n",
    "from keplergl import KeplerGl\n",
    "import seaborn as sns\n",
    "sns.set()"
   ]
  },
  {
   "cell_type": "code",
   "execution_count": 27,
   "metadata": {
    "pycharm": {
     "name": "#%%\n"
    }
   },
   "outputs": [
    {
     "data": {
      "text/html": [
       "<div>\n",
       "<style scoped>\n",
       "    .dataframe tbody tr th:only-of-type {\n",
       "        vertical-align: middle;\n",
       "    }\n",
       "\n",
       "    .dataframe tbody tr th {\n",
       "        vertical-align: top;\n",
       "    }\n",
       "\n",
       "    .dataframe thead th {\n",
       "        text-align: right;\n",
       "    }\n",
       "</style>\n",
       "<table border=\"1\" class=\"dataframe\">\n",
       "  <thead>\n",
       "    <tr style=\"text-align: right;\">\n",
       "      <th></th>\n",
       "      <th>dailyid</th>\n",
       "      <th>from_mesh_code</th>\n",
       "      <th>from_lon</th>\n",
       "      <th>from_lat</th>\n",
       "      <th>to_lon</th>\n",
       "      <th>to_lat</th>\n",
       "      <th>distance_far</th>\n",
       "      <th>from_mesh_str</th>\n",
       "      <th>day</th>\n",
       "    </tr>\n",
       "  </thead>\n",
       "  <tbody>\n",
       "    <tr>\n",
       "      <th>0</th>\n",
       "      <td>0001958a93035ec16afea75e515c2506f09c1a18b13539...</td>\n",
       "      <td>534040964</td>\n",
       "      <td>140.084375</td>\n",
       "      <td>35.747917</td>\n",
       "      <td>139.733170</td>\n",
       "      <td>35.857102</td>\n",
       "      <td>33977.815597</td>\n",
       "      <td>m534040964</td>\n",
       "      <td>20200410</td>\n",
       "    </tr>\n",
       "    <tr>\n",
       "      <th>1</th>\n",
       "      <td>00056b0af5b475ab99a241100fd85073d283ee042eb4ce...</td>\n",
       "      <td>534022362</td>\n",
       "      <td>140.334375</td>\n",
       "      <td>35.527083</td>\n",
       "      <td>140.248299</td>\n",
       "      <td>37.284363</td>\n",
       "      <td>195152.039182</td>\n",
       "      <td>m534022362</td>\n",
       "      <td>20200410</td>\n",
       "    </tr>\n",
       "    <tr>\n",
       "      <th>2</th>\n",
       "      <td>0008923fea4381611a45ede2cd77d3f421246430e7dfed...</td>\n",
       "      <td>533947743</td>\n",
       "      <td>139.928125</td>\n",
       "      <td>35.731250</td>\n",
       "      <td>139.925841</td>\n",
       "      <td>35.721826</td>\n",
       "      <td>1065.853206</td>\n",
       "      <td>m533947743</td>\n",
       "      <td>20200410</td>\n",
       "    </tr>\n",
       "    <tr>\n",
       "      <th>3</th>\n",
       "      <td>001155860531d403b414a92e8155393f3bbebe2230139f...</td>\n",
       "      <td>534040684</td>\n",
       "      <td>140.109375</td>\n",
       "      <td>35.722917</td>\n",
       "      <td>140.107593</td>\n",
       "      <td>35.738774</td>\n",
       "      <td>1766.805480</td>\n",
       "      <td>m534040684</td>\n",
       "      <td>20200410</td>\n",
       "    </tr>\n",
       "    <tr>\n",
       "      <th>4</th>\n",
       "      <td>0026ccec515acd7b79479c845af25e5af4e643eafd1987...</td>\n",
       "      <td>533967772</td>\n",
       "      <td>139.971875</td>\n",
       "      <td>35.893750</td>\n",
       "      <td>139.976029</td>\n",
       "      <td>35.888226</td>\n",
       "      <td>718.571353</td>\n",
       "      <td>m533967772</td>\n",
       "      <td>20200410</td>\n",
       "    </tr>\n",
       "  </tbody>\n",
       "</table>\n",
       "</div>"
      ],
      "text/plain": [
       "                                             dailyid  from_mesh_code  \\\n",
       "0  0001958a93035ec16afea75e515c2506f09c1a18b13539...       534040964   \n",
       "1  00056b0af5b475ab99a241100fd85073d283ee042eb4ce...       534022362   \n",
       "2  0008923fea4381611a45ede2cd77d3f421246430e7dfed...       533947743   \n",
       "3  001155860531d403b414a92e8155393f3bbebe2230139f...       534040684   \n",
       "4  0026ccec515acd7b79479c845af25e5af4e643eafd1987...       533967772   \n",
       "\n",
       "     from_lon   from_lat      to_lon     to_lat   distance_far from_mesh_str  \\\n",
       "0  140.084375  35.747917  139.733170  35.857102   33977.815597    m534040964   \n",
       "1  140.334375  35.527083  140.248299  37.284363  195152.039182    m534022362   \n",
       "2  139.928125  35.731250  139.925841  35.721826    1065.853206    m533947743   \n",
       "3  140.109375  35.722917  140.107593  35.738774    1766.805480    m534040684   \n",
       "4  139.971875  35.893750  139.976029  35.888226     718.571353    m533967772   \n",
       "\n",
       "        day  \n",
       "0  20200410  \n",
       "1  20200410  \n",
       "2  20200410  \n",
       "3  20200410  \n",
       "4  20200410  "
      ]
     },
     "execution_count": 27,
     "metadata": {},
     "output_type": "execute_result"
    }
   ],
   "source": [
    "result_dir = \"../result//service_area\"\n",
    "df_distance_far = pd.read_csv(f\"{result_dir}//mesh_distance_far.csv\")\n",
    "df_distance_far.head()"
   ]
  },
  {
   "cell_type": "markdown",
   "metadata": {},
   "source": [
    "## メッシュ別距離分布\n",
    "朝4時以降に最初に記録された地点を自宅メッシュとして，各ユーザーの軌跡の最遠点の距離を集計　ヒストグラムを作成"
   ]
  },
  {
   "cell_type": "code",
   "execution_count": 34,
   "metadata": {
    "pycharm": {
     "name": "#%%\n"
    }
   },
   "outputs": [
    {
     "name": "stdout",
     "output_type": "stream",
     "text": [
      "num:89\n"
     ]
    },
    {
     "data": {
      "text/plain": [
       "<matplotlib.axes._subplots.AxesSubplot at 0x13172e160>"
      ]
     },
     "execution_count": 34,
     "metadata": {},
     "output_type": "execute_result"
    },
    {
     "data": {
      "image/png": "[encoded data removed]",
      "text/plain": [
       "<Figure size 432x288 with 1 Axes>"
      ]
     },
     "metadata": {},
     "output_type": "display_data"
    }
   ],
   "source": [
    "mesh4 = 533947481\n",
    "df_meshd_distance_far = df_distance_far[df_distance_far[\"from_mesh_code\"]==mesh4]\n",
    "print(f\"num:{len(df_meshd_distance_far)}\")\n",
    "df_meshd_distance_far[\"distance_far\"].hist(bins=50)"
   ]
  },
  {
   "cell_type": "code",
   "execution_count": 35,
   "metadata": {
    "pycharm": {
     "name": "#%%\n"
    }
   },
   "outputs": [
    {
     "name": "stdout",
     "output_type": "stream",
     "text": [
      "num:536\n"
     ]
    },
    {
     "data": {
      "text/plain": [
       "<matplotlib.axes._subplots.AxesSubplot at 0x1318ab160>"
      ]
     },
     "execution_count": 35,
     "metadata": {},
     "output_type": "execute_result"
    },
    {
     "data": {
      "image/png": "[encoded data removed]",
      "text/plain": [
       "<Figure size 432x288 with 1 Axes>"
      ]
     },
     "metadata": {},
     "output_type": "display_data"
    }
   ],
   "source": [
    "mesh3 = 53394748\n",
    "df_meshd_distance_far = df_distance_far[(df_distance_far[\"from_mesh_code\"]>mesh3*10)&(df_distance_far[\"from_mesh_code\"]<(mesh3+1)*10)]\n",
    "print(f\"num:{len(df_meshd_distance_far)}\")\n",
    "df_meshd_distance_far[\"distance_far\"].hist(bins=50)"
   ]
  },
  {
   "cell_type": "code",
   "execution_count": 36,
   "metadata": {
    "pycharm": {
     "name": "#%%\n"
    }
   },
   "outputs": [
    {
     "name": "stdout",
     "output_type": "stream",
     "text": [
      "num:16997\n"
     ]
    },
    {
     "data": {
      "text/plain": [
       "<matplotlib.axes._subplots.AxesSubplot at 0x131994b70>"
      ]
     },
     "execution_count": 36,
     "metadata": {},
     "output_type": "execute_result"
    },
    {
     "data": {
      "image/png": "[encoded data removed]",
      "text/plain": [
       "<Figure size 432x288 with 1 Axes>"
      ]
     },
     "metadata": {},
     "output_type": "display_data"
    }
   ],
   "source": [
    "mesh2 = 533947\n",
    "df_meshd_distance_far = df_distance_far[(df_distance_far[\"from_mesh_code\"]>mesh2*1000)&(df_distance_far[\"from_mesh_code\"]<(mesh2+1)*1000)]\n",
    "print(f\"num:{len(df_meshd_distance_far)}\")\n",
    "df_meshd_distance_far[\"distance_far\"].hist(bins=50)\n"
   ]
  },
  {
   "cell_type": "code",
   "execution_count": 52,
   "metadata": {},
   "outputs": [],
   "source": [
    "config2={'version': 'v1',\n",
    " 'config': {'visState': {'filters': [],\n",
    "   'layers': [{'id': '6qdgoy',\n",
    "     'type': 'point',\n",
    "     'config': {'dataId': 'OD',\n",
    "      'label': 'from',\n",
    "      'color': [77, 193, 156],\n",
    "      'columns': {'lat': 'from_lat', 'lng': 'from_lon', 'altitude': None},\n",
    "      'isVisible': True,\n",
    "      'visConfig': {'radius': 10,\n",
    "       'fixedRadius': False,\n",
    "       'opacity': 0.8,\n",
    "       'outline': False,\n",
    "       'thickness': 2,\n",
    "       'strokeColor': None,\n",
    "       'colorRange': {'name': 'Global Warming',\n",
    "        'type': 'sequential',\n",
    "        'category': 'Uber',\n",
    "        'colors': ['#5A1846',\n",
    "         '#900C3F',\n",
    "         '#C70039',\n",
    "         '#E3611C',\n",
    "         '#F1920E',\n",
    "         '#FFC300']},\n",
    "       'strokeColorRange': {'name': 'Global Warming',\n",
    "        'type': 'sequential',\n",
    "        'category': 'Uber',\n",
    "        'colors': ['#5A1846',\n",
    "         '#900C3F',\n",
    "         '#C70039',\n",
    "         '#E3611C',\n",
    "         '#F1920E',\n",
    "         '#FFC300']},\n",
    "       'radiusRange': [0, 50],\n",
    "       'filled': True},\n",
    "      'hidden': False,\n",
    "      'textLabel': [{'field': None,\n",
    "        'color': [255, 255, 255],\n",
    "        'size': 18,\n",
    "        'offset': [0, 0],\n",
    "        'anchor': 'start',\n",
    "        'alignment': 'center'}]},\n",
    "     'visualChannels': {'colorField': None,\n",
    "      'colorScale': 'quantile',\n",
    "      'strokeColorField': None,\n",
    "      'strokeColorScale': 'quantile',\n",
    "      'sizeField': None,\n",
    "      'sizeScale': 'linear'}},\n",
    "    {'id': 'hdhcp4n',\n",
    "     'type': 'point',\n",
    "     'config': {'dataId': 'OD',\n",
    "      'label': 'to',\n",
    "      'color': [119, 110, 87],\n",
    "      'columns': {'lat': 'to_lat', 'lng': 'to_lon', 'altitude': None},\n",
    "      'isVisible': False,\n",
    "      'visConfig': {'radius': 10,\n",
    "       'fixedRadius': False,\n",
    "       'opacity': 0.8,\n",
    "       'outline': False,\n",
    "       'thickness': 2,\n",
    "       'strokeColor': None,\n",
    "       'colorRange': {'name': 'Global Warming',\n",
    "        'type': 'sequential',\n",
    "        'category': 'Uber',\n",
    "        'colors': ['#5A1846',\n",
    "         '#900C3F',\n",
    "         '#C70039',\n",
    "         '#E3611C',\n",
    "         '#F1920E',\n",
    "         '#FFC300']},\n",
    "       'strokeColorRange': {'name': 'Global Warming',\n",
    "        'type': 'sequential',\n",
    "        'category': 'Uber',\n",
    "        'colors': ['#5A1846',\n",
    "         '#900C3F',\n",
    "         '#C70039',\n",
    "         '#E3611C',\n",
    "         '#F1920E',\n",
    "         '#FFC300']},\n",
    "       'radiusRange': [0, 50],\n",
    "       'filled': True},\n",
    "      'hidden': False,\n",
    "      'textLabel': [{'field': None,\n",
    "        'color': [255, 255, 255],\n",
    "        'size': 18,\n",
    "        'offset': [0, 0],\n",
    "        'anchor': 'start',\n",
    "        'alignment': 'center'}]},\n",
    "     'visualChannels': {'colorField': None,\n",
    "      'colorScale': 'quantile',\n",
    "      'strokeColorField': None,\n",
    "      'strokeColorScale': 'quantile',\n",
    "      'sizeField': None,\n",
    "      'sizeScale': 'linear'}},\n",
    "    {'id': 'as19c6',\n",
    "     'type': 'arc',\n",
    "     'config': {'dataId': 'OD',\n",
    "      'label': 'from -> to arc',\n",
    "      'color': [255, 250, 102],\n",
    "      'columns': {'lat0': 'from_lat',\n",
    "       'lng0': 'from_lon',\n",
    "       'lat1': 'to_lat',\n",
    "       'lng1': 'to_lon'},\n",
    "      'isVisible': True,\n",
    "      'visConfig': {'opacity': 0.8,\n",
    "       'thickness': 0.5,\n",
    "       'colorRange': {'name': 'Global Warming',\n",
    "        'type': 'sequential',\n",
    "        'category': 'Uber',\n",
    "        'colors': ['#5A1846',\n",
    "         '#900C3F',\n",
    "         '#C70039',\n",
    "         '#E3611C',\n",
    "         '#F1920E',\n",
    "         '#FFC300']},\n",
    "       'sizeRange': [0, 10],\n",
    "       'targetColor': None},\n",
    "      'hidden': False,\n",
    "      'textLabel': [{'field': None,\n",
    "        'color': [255, 255, 255],\n",
    "        'size': 18,\n",
    "        'offset': [0, 0],\n",
    "        'anchor': 'start',\n",
    "        'alignment': 'center'}]},\n",
    "     'visualChannels': {'colorField': None,\n",
    "      'colorScale': 'quantile',\n",
    "      'sizeField': None,\n",
    "      'sizeScale': 'linear'}},\n",
    "    {'id': 'kgliqd',\n",
    "     'type': 'line',\n",
    "     'config': {'dataId': 'OD',\n",
    "      'label': 'from -> to line',\n",
    "      'color': [23, 184, 190],\n",
    "      'columns': {'lat0': 'from_lat',\n",
    "       'lng0': 'from_lon',\n",
    "       'lat1': 'to_lat',\n",
    "       'lng1': 'to_lon'},\n",
    "      'isVisible': False,\n",
    "      'visConfig': {'opacity': 0.8,\n",
    "       'thickness': 2,\n",
    "       'colorRange': {'name': 'Global Warming',\n",
    "        'type': 'sequential',\n",
    "        'category': 'Uber',\n",
    "        'colors': ['#5A1846',\n",
    "         '#900C3F',\n",
    "         '#C70039',\n",
    "         '#E3611C',\n",
    "         '#F1920E',\n",
    "         '#FFC300']},\n",
    "       'sizeRange': [0, 10],\n",
    "       'targetColor': None},\n",
    "      'hidden': False,\n",
    "      'textLabel': [{'field': None,\n",
    "        'color': [255, 255, 255],\n",
    "        'size': 18,\n",
    "        'offset': [0, 0],\n",
    "        'anchor': 'start',\n",
    "        'alignment': 'center'}]},\n",
    "     'visualChannels': {'colorField': None,\n",
    "      'colorScale': 'quantile',\n",
    "      'sizeField': None,\n",
    "      'sizeScale': 'linear'}}],\n",
    "   'interactionConfig': {'tooltip': {'fieldsToShow': {'OD': ['dailyid',\n",
    "       'from_mesh_code',\n",
    "       'distance_far',\n",
    "       'from_mesh_str',\n",
    "       'day']},\n",
    "     'enabled': True},\n",
    "    'brush': {'size': 0.5, 'enabled': False},\n",
    "    'geocoder': {'enabled': False},\n",
    "    'coordinate': {'enabled': False}},\n",
    "   'layerBlending': 'normal',\n",
    "   'splitMaps': [],\n",
    "   'animationConfig': {'currentTime': None, 'speed': 1}},\n",
    "  'mapState': {'bearing': 26.231404958677693,\n",
    "   'dragRotate': True,\n",
    "   'latitude': 35.744898314642064,\n",
    "   'longitude': 139.86223524416238,\n",
    "   'pitch': 48.53332216361564,\n",
    "   'zoom': 8.381206699127038,\n",
    "   'isSplit': False},\n",
    "  'mapStyle': {'styleType': 'dark',\n",
    "   'topLayerGroups': {},\n",
    "   'visibleLayerGroups': {'label': True,\n",
    "    'road': True,\n",
    "    'border': False,\n",
    "    'building': True,\n",
    "    'water': True,\n",
    "    'land': True,\n",
    "    '3d building': False},\n",
    "   'threeDBuildingColor': [9.665468314072013,\n",
    "    17.18305478057247,\n",
    "    31.1442867897876],\n",
    "   'mapStyles': {}}}}"
   ]
  },
  {
   "cell_type": "code",
   "execution_count": 53,
   "metadata": {},
   "outputs": [
    {
     "name": "stdout",
     "output_type": "stream",
     "text": [
      "User Guide: https://docs.kepler.gl/docs/keplergl-jupyter\n"
     ]
    },
    {
     "data": {
      "application/vnd.jupyter.widget-view+json": {
       "model_id": "c8c157aa202b45cfa387ad796b19dd64",
       "version_major": 2,
       "version_minor": 0
      },
      "text/plain": [
       "KeplerGl(config={'version': 'v1', 'config': {'visState': {'filters': [], 'layers': [{'id': '6qdgoy', 'type': '…"
      ]
     },
     "metadata": {},
     "output_type": "display_data"
    }
   ],
   "source": [
    "map_2 = KeplerGl(height=800, config=config2)\n",
    "map_2.add_data(df_meshd_distance_far,name=f\"OD\")\n",
    "map_2"
   ]
  },
  {
   "cell_type": "code",
   "execution_count": 51,
   "metadata": {},
   "outputs": [
    {
     "data": {
      "text/plain": [
       "{'version': 'v1',\n",
       " 'config': {'visState': {'filters': [],\n",
       "   'layers': [{'id': '6qdgoy',\n",
       "     'type': 'point',\n",
       "     'config': {'dataId': 'OD',\n",
       "      'label': 'from',\n",
       "      'color': [77, 193, 156],\n",
       "      'columns': {'lat': 'from_lat', 'lng': 'from_lon', 'altitude': None},\n",
       "      'isVisible': True,\n",
       "      'visConfig': {'radius': 10,\n",
       "       'fixedRadius': False,\n",
       "       'opacity': 0.8,\n",
       "       'outline': False,\n",
       "       'thickness': 2,\n",
       "       'strokeColor': None,\n",
       "       'colorRange': {'name': 'Global Warming',\n",
       "        'type': 'sequential',\n",
       "        'category': 'Uber',\n",
       "        'colors': ['#5A1846',\n",
       "         '#900C3F',\n",
       "         '#C70039',\n",
       "         '#E3611C',\n",
       "         '#F1920E',\n",
       "         '#FFC300']},\n",
       "       'strokeColorRange': {'name': 'Global Warming',\n",
       "        'type': 'sequential',\n",
       "        'category': 'Uber',\n",
       "        'colors': ['#5A1846',\n",
       "         '#900C3F',\n",
       "         '#C70039',\n",
       "         '#E3611C',\n",
       "         '#F1920E',\n",
       "         '#FFC300']},\n",
       "       'radiusRange': [0, 50],\n",
       "       'filled': True},\n",
       "      'hidden': False,\n",
       "      'textLabel': [{'field': None,\n",
       "        'color': [255, 255, 255],\n",
       "        'size': 18,\n",
       "        'offset': [0, 0],\n",
       "        'anchor': 'start',\n",
       "        'alignment': 'center'}]},\n",
       "     'visualChannels': {'colorField': None,\n",
       "      'colorScale': 'quantile',\n",
       "      'strokeColorField': None,\n",
       "      'strokeColorScale': 'quantile',\n",
       "      'sizeField': None,\n",
       "      'sizeScale': 'linear'}},\n",
       "    {'id': 'hdhcp4n',\n",
       "     'type': 'point',\n",
       "     'config': {'dataId': 'OD',\n",
       "      'label': 'to',\n",
       "      'color': [119, 110, 87],\n",
       "      'columns': {'lat': 'to_lat', 'lng': 'to_lon', 'altitude': None},\n",
       "      'isVisible': False,\n",
       "      'visConfig': {'radius': 10,\n",
       "       'fixedRadius': False,\n",
       "       'opacity': 0.8,\n",
       "       'outline': False,\n",
       "       'thickness': 2,\n",
       "       'strokeColor': None,\n",
       "       'colorRange': {'name': 'Global Warming',\n",
       "        'type': 'sequential',\n",
       "        'category': 'Uber',\n",
       "        'colors': ['#5A1846',\n",
       "         '#900C3F',\n",
       "         '#C70039',\n",
       "         '#E3611C',\n",
       "         '#F1920E',\n",
       "         '#FFC300']},\n",
       "       'strokeColorRange': {'name': 'Global Warming',\n",
       "        'type': 'sequential',\n",
       "        'category': 'Uber',\n",
       "        'colors': ['#5A1846',\n",
       "         '#900C3F',\n",
       "         '#C70039',\n",
       "         '#E3611C',\n",
       "         '#F1920E',\n",
       "         '#FFC300']},\n",
       "       'radiusRange': [0, 50],\n",
       "       'filled': True},\n",
       "      'hidden': False,\n",
       "      'textLabel': [{'field': None,\n",
       "        'color': [255, 255, 255],\n",
       "        'size': 18,\n",
       "        'offset': [0, 0],\n",
       "        'anchor': 'start',\n",
       "        'alignment': 'center'}]},\n",
       "     'visualChannels': {'colorField': None,\n",
       "      'colorScale': 'quantile',\n",
       "      'strokeColorField': None,\n",
       "      'strokeColorScale': 'quantile',\n",
       "      'sizeField': None,\n",
       "      'sizeScale': 'linear'}},\n",
       "    {'id': 'as19c6',\n",
       "     'type': 'arc',\n",
       "     'config': {'dataId': 'OD',\n",
       "      'label': 'from -> to arc',\n",
       "      'color': [255, 250, 102],\n",
       "      'columns': {'lat0': 'from_lat',\n",
       "       'lng0': 'from_lon',\n",
       "       'lat1': 'to_lat',\n",
       "       'lng1': 'to_lon'},\n",
       "      'isVisible': True,\n",
       "      'visConfig': {'opacity': 0.8,\n",
       "       'thickness': 0.5,\n",
       "       'colorRange': {'name': 'Global Warming',\n",
       "        'type': 'sequential',\n",
       "        'category': 'Uber',\n",
       "        'colors': ['#5A1846',\n",
       "         '#900C3F',\n",
       "         '#C70039',\n",
       "         '#E3611C',\n",
       "         '#F1920E',\n",
       "         '#FFC300']},\n",
       "       'sizeRange': [0, 10],\n",
       "       'targetColor': None},\n",
       "      'hidden': False,\n",
       "      'textLabel': [{'field': None,\n",
       "        'color': [255, 255, 255],\n",
       "        'size': 18,\n",
       "        'offset': [0, 0],\n",
       "        'anchor': 'start',\n",
       "        'alignment': 'center'}]},\n",
       "     'visualChannels': {'colorField': None,\n",
       "      'colorScale': 'quantile',\n",
       "      'sizeField': None,\n",
       "      'sizeScale': 'linear'}},\n",
       "    {'id': 'kgliqd',\n",
       "     'type': 'line',\n",
       "     'config': {'dataId': 'OD',\n",
       "      'label': 'from -> to line',\n",
       "      'color': [23, 184, 190],\n",
       "      'columns': {'lat0': 'from_lat',\n",
       "       'lng0': 'from_lon',\n",
       "       'lat1': 'to_lat',\n",
       "       'lng1': 'to_lon'},\n",
       "      'isVisible': False,\n",
       "      'visConfig': {'opacity': 0.8,\n",
       "       'thickness': 2,\n",
       "       'colorRange': {'name': 'Global Warming',\n",
       "        'type': 'sequential',\n",
       "        'category': 'Uber',\n",
       "        'colors': ['#5A1846',\n",
       "         '#900C3F',\n",
       "         '#C70039',\n",
       "         '#E3611C',\n",
       "         '#F1920E',\n",
       "         '#FFC300']},\n",
       "       'sizeRange': [0, 10],\n",
       "       'targetColor': None},\n",
       "      'hidden': False,\n",
       "      'textLabel': [{'field': None,\n",
       "        'color': [255, 255, 255],\n",
       "        'size': 18,\n",
       "        'offset': [0, 0],\n",
       "        'anchor': 'start',\n",
       "        'alignment': 'center'}]},\n",
       "     'visualChannels': {'colorField': None,\n",
       "      'colorScale': 'quantile',\n",
       "      'sizeField': None,\n",
       "      'sizeScale': 'linear'}}],\n",
       "   'interactionConfig': {'tooltip': {'fieldsToShow': {'OD': ['dailyid',\n",
       "       'from_mesh_code',\n",
       "       'distance_far',\n",
       "       'from_mesh_str',\n",
       "       'day']},\n",
       "     'enabled': True},\n",
       "    'brush': {'size': 0.5, 'enabled': False},\n",
       "    'geocoder': {'enabled': False},\n",
       "    'coordinate': {'enabled': False}},\n",
       "   'layerBlending': 'normal',\n",
       "   'splitMaps': [],\n",
       "   'animationConfig': {'currentTime': None, 'speed': 1}},\n",
       "  'mapState': {'bearing': 26.231404958677693,\n",
       "   'dragRotate': True,\n",
       "   'latitude': 35.744898314642064,\n",
       "   'longitude': 139.86223524416238,\n",
       "   'pitch': 48.53332216361564,\n",
       "   'zoom': 8.381206699127038,\n",
       "   'isSplit': False},\n",
       "  'mapStyle': {'styleType': 'dark',\n",
       "   'topLayerGroups': {},\n",
       "   'visibleLayerGroups': {'label': True,\n",
       "    'road': True,\n",
       "    'border': False,\n",
       "    'building': True,\n",
       "    'water': True,\n",
       "    'land': True,\n",
       "    '3d building': False},\n",
       "   'threeDBuildingColor': [9.665468314072013,\n",
       "    17.18305478057247,\n",
       "    31.1442867897876],\n",
       "   'mapStyles': {}}}}"
      ]
     },
     "execution_count": 51,
     "metadata": {},
     "output_type": "execute_result"
    }
   ],
   "source": [
    "map_2.config"
   ]
  },
  {
   "cell_type": "code",
   "execution_count": null,
   "metadata": {},
   "outputs": [],
   "source": []
  },
  {
   "cell_type": "code",
   "execution_count": null,
   "metadata": {},
   "outputs": [],
   "source": []
  },
  {
   "cell_type": "markdown",
   "metadata": {},
   "source": [
    "## トリップアニメーションの作成"
   ]
  },
  {
   "cell_type": "code",
   "execution_count": 41,
   "metadata": {
    "pycharm": {
     "name": "#%%\n"
    }
   },
   "outputs": [],
   "source": [
    "import pandas as pd\n",
    "from keplergl import KeplerGl"
   ]
  },
  {
   "cell_type": "code",
   "execution_count": 58,
   "metadata": {
    "pycharm": {
     "name": "#%%\n"
    }
   },
   "outputs": [],
   "source": [
    "trip_day=\"20200410\"\n",
    "\n",
    "trip_file=f\"{result_dir}//chiba_all//trips_{trip_day}.csv\"\n"
   ]
  },
  {
   "cell_type": "code",
   "execution_count": 59,
   "metadata": {
    "pycharm": {
     "name": "#%%\n"
    }
   },
   "outputs": [
    {
     "data": {
      "text/html": [
       "<div>\n",
       "<style scoped>\n",
       "    .dataframe tbody tr th:only-of-type {\n",
       "        vertical-align: middle;\n",
       "    }\n",
       "\n",
       "    .dataframe tbody tr th {\n",
       "        vertical-align: top;\n",
       "    }\n",
       "\n",
       "    .dataframe thead th {\n",
       "        text-align: right;\n",
       "    }\n",
       "</style>\n",
       "<table border=\"1\" class=\"dataframe\">\n",
       "  <thead>\n",
       "    <tr style=\"text-align: right;\">\n",
       "      <th></th>\n",
       "      <th>_geojson</th>\n",
       "      <th>dailyid_c</th>\n",
       "      <th>dailyid</th>\n",
       "      <th>home_mesh_code</th>\n",
       "    </tr>\n",
       "  </thead>\n",
       "  <tbody>\n",
       "    <tr>\n",
       "      <th>0</th>\n",
       "      <td>{\"geometry\": {\"coordinates\": [[139.733728, 35....</td>\n",
       "      <td>0001958a93035ec16afea75e515c2506f09c1a18b13539...</td>\n",
       "      <td>0001958a93035ec16afea75e515c2506f09c1a18b13539...</td>\n",
       "      <td>m534040964</td>\n",
       "    </tr>\n",
       "    <tr>\n",
       "      <th>1</th>\n",
       "      <td>{\"geometry\": {\"coordinates\": [[139.771962, 35....</td>\n",
       "      <td>0001958a93035ec16afea75e515c2506f09c1a18b13539...</td>\n",
       "      <td>0001958a93035ec16afea75e515c2506f09c1a18b13539...</td>\n",
       "      <td>m534040964</td>\n",
       "    </tr>\n",
       "    <tr>\n",
       "      <th>2</th>\n",
       "      <td>{\"geometry\": {\"coordinates\": [[139.821623, 35....</td>\n",
       "      <td>0001958a93035ec16afea75e515c2506f09c1a18b13539...</td>\n",
       "      <td>0001958a93035ec16afea75e515c2506f09c1a18b13539...</td>\n",
       "      <td>m534040964</td>\n",
       "    </tr>\n",
       "    <tr>\n",
       "      <th>3</th>\n",
       "      <td>{\"geometry\": {\"coordinates\": [[139.886945, 35....</td>\n",
       "      <td>0001958a93035ec16afea75e515c2506f09c1a18b13539...</td>\n",
       "      <td>0001958a93035ec16afea75e515c2506f09c1a18b13539...</td>\n",
       "      <td>m534040964</td>\n",
       "    </tr>\n",
       "    <tr>\n",
       "      <th>4</th>\n",
       "      <td>{\"geometry\": {\"coordinates\": [[139.903902, 35....</td>\n",
       "      <td>0001958a93035ec16afea75e515c2506f09c1a18b13539...</td>\n",
       "      <td>0001958a93035ec16afea75e515c2506f09c1a18b13539...</td>\n",
       "      <td>m534040964</td>\n",
       "    </tr>\n",
       "  </tbody>\n",
       "</table>\n",
       "</div>"
      ],
      "text/plain": [
       "                                            _geojson  \\\n",
       "0  {\"geometry\": {\"coordinates\": [[139.733728, 35....   \n",
       "1  {\"geometry\": {\"coordinates\": [[139.771962, 35....   \n",
       "2  {\"geometry\": {\"coordinates\": [[139.821623, 35....   \n",
       "3  {\"geometry\": {\"coordinates\": [[139.886945, 35....   \n",
       "4  {\"geometry\": {\"coordinates\": [[139.903902, 35....   \n",
       "\n",
       "                                           dailyid_c  \\\n",
       "0  0001958a93035ec16afea75e515c2506f09c1a18b13539...   \n",
       "1  0001958a93035ec16afea75e515c2506f09c1a18b13539...   \n",
       "2  0001958a93035ec16afea75e515c2506f09c1a18b13539...   \n",
       "3  0001958a93035ec16afea75e515c2506f09c1a18b13539...   \n",
       "4  0001958a93035ec16afea75e515c2506f09c1a18b13539...   \n",
       "\n",
       "                                             dailyid home_mesh_code  \n",
       "0  0001958a93035ec16afea75e515c2506f09c1a18b13539...     m534040964  \n",
       "1  0001958a93035ec16afea75e515c2506f09c1a18b13539...     m534040964  \n",
       "2  0001958a93035ec16afea75e515c2506f09c1a18b13539...     m534040964  \n",
       "3  0001958a93035ec16afea75e515c2506f09c1a18b13539...     m534040964  \n",
       "4  0001958a93035ec16afea75e515c2506f09c1a18b13539...     m534040964  "
      ]
     },
     "execution_count": 59,
     "metadata": {},
     "output_type": "execute_result"
    }
   ],
   "source": [
    "df_trip = pd.read_csv(trip_file)\n",
    "df_trip.head()"
   ]
  },
  {
   "cell_type": "code",
   "execution_count": 60,
   "metadata": {
    "pycharm": {
     "name": "#%%\n"
    }
   },
   "outputs": [],
   "source": [
    "config={'version': 'v1',\n",
    " 'config': {'visState': {'filters': [],\n",
    "   'layers': [{'id': 'row5kij',\n",
    "     'type': 'trip',\n",
    "     'config': {'dataId': 'trip',\n",
    "      'label': 'trip',\n",
    "      'color': [255, 248, 51],\n",
    "      'columns': {'geojson': '_geojson'},\n",
    "      'isVisible': True,\n",
    "      'visConfig': {'opacity': 0.8,\n",
    "       'thickness': 1,\n",
    "       'colorRange': {'name': 'Global Warming',\n",
    "        'type': 'sequential',\n",
    "        'category': 'Uber',\n",
    "        'colors': ['#5A1846',\n",
    "         '#900C3F',\n",
    "         '#C70039',\n",
    "         '#E3611C',\n",
    "         '#F1920E',\n",
    "         '#FFC300']},\n",
    "       'trailLength': 360,\n",
    "       'sizeRange': [0, 10]},\n",
    "      'hidden': False,\n",
    "      'textLabel': [{'field': None,\n",
    "        'color': [255, 255, 255],\n",
    "        'size': 18,\n",
    "        'offset': [0, 0],\n",
    "        'anchor': 'start',\n",
    "        'alignment': 'center'}]},\n",
    "     'visualChannels': {'colorField': None,\n",
    "      'colorScale': 'quantile',\n",
    "      'sizeField': None,\n",
    "      'sizeScale': 'linear'}}],\n",
    "   'interactionConfig': {'tooltip': {'fieldsToShow': {'trip': ['dailyid_c',\n",
    "       'dailyid']},\n",
    "     'enabled': True},\n",
    "    'brush': {'size': 0.5, 'enabled': False},\n",
    "    'geocoder': {'enabled': False},\n",
    "    'coordinate': {'enabled': False}},\n",
    "   'layerBlending': 'normal',\n",
    "   'splitMaps': [],\n",
    "   'animationConfig': {'currentTime': 1585699262545, 'speed': 0.2}},\n",
    "  'mapState': {'bearing': 0,\n",
    "   'dragRotate': False,\n",
    "   'latitude': 35.4038663425364,\n",
    "   'longitude': 140.04802116228166,\n",
    "   'pitch': 0,\n",
    "   'zoom': 8.058975562353394,\n",
    "   'isSplit': False},\n",
    "  'mapStyle': {'styleType': 'dark',\n",
    "   'topLayerGroups': {},\n",
    "   'visibleLayerGroups': {'label': True,\n",
    "    'road': True,\n",
    "    'border': False,\n",
    "    'building': True,\n",
    "    'water': True,\n",
    "    'land': True,\n",
    "    '3d building': False},\n",
    "   'threeDBuildingColor': [9.665468314072013,\n",
    "    17.18305478057247,\n",
    "    31.1442867897876],\n",
    "   'mapStyles': {}}}}"
   ]
  },
  {
   "cell_type": "code",
   "execution_count": 61,
   "metadata": {
    "pycharm": {
     "name": "#%%\n"
    }
   },
   "outputs": [
    {
     "name": "stdout",
     "output_type": "stream",
     "text": [
      "User Guide: https://docs.kepler.gl/docs/keplergl-jupyter\n"
     ]
    },
    {
     "data": {
      "application/vnd.jupyter.widget-view+json": {
       "model_id": "9a433f8402b04e24aa9de95401dc5199",
       "version_major": 2,
       "version_minor": 0
      },
      "text/plain": [
       "KeplerGl(config={'version': 'v1', 'config': {'visState': {'filters': [], 'layers': [{'id': 'row5kij', 'type': …"
      ]
     },
     "metadata": {},
     "output_type": "display_data"
    }
   ],
   "source": [
    "map_1 = KeplerGl(height=800, config=config)\n",
    "map_1.add_data(df_trip,name=f\"trip\")\n",
    "map_1"
   ]
  },
  {
   "cell_type": "code",
   "execution_count": null,
   "metadata": {},
   "outputs": [],
   "source": []
  }
 ],
 "metadata": {
  "kernelspec": {
   "display_name": "Python 3",
   "language": "python",
   "name": "python3"
  },
  "language_info": {
   "codemirror_mode": {
    "name": "ipython",
    "version": 3
   },
   "file_extension": ".py",
   "mimetype": "text/x-python",
   "name": "python",
   "nbconvert_exporter": "python",
   "pygments_lexer": "ipython3",
   "version": "3.7.0"
  }
 },
 "nbformat": 4,
 "nbformat_minor": 1
}
